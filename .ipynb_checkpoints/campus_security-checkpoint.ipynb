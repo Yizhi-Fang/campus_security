{
 "cells": [
  {
   "cell_type": "code",
   "execution_count": null,
   "metadata": {
    "collapsed": true
   },
   "outputs": [],
   "source": [
    "import pandas as pd\n",
    "import numpy as np\n",
    "import matplotlib.pyplot as plt\n",
    "import seaborn as sns"
   ]
  },
  {
   "cell_type": "code",
   "execution_count": null,
   "metadata": {
    "collapsed": true
   },
   "outputs": [],
   "source": [
    "# project\n",
    "arrest1_off = pd.read_excel(\"./data/Noncampusarrest050607.xls\")\n",
    "arrest2_off = pd.read_excel(\"./data/Noncampusarrest070809.xls\")\n",
    "arrest3_off = pd.read_excel(\"./data/noncampusarrest101112.xls\")\n",
    "arrest4_off = pd.read_excel(\"./data/noncampusarrest131415.xls\")\n",
    "\n",
    "arrest1_on = pd.read_excel(\"./data/Oncampusarrest050607.xls\")\n",
    "arrest2_on = pd.read_excel(\"./data/Oncampusarrest070809.xls\")\n",
    "arrest3_on = pd.read_excel(\"./data/oncampusarrest101112.xls\")\n",
    "arrest4_on = pd.read_excel(\"./data/oncampusarrest131415.xls\")"
   ]
  },
  {
   "cell_type": "code",
   "execution_count": null,
   "metadata": {
    "collapsed": true
   },
   "outputs": [],
   "source": [
    "weapons_off = arrest1_off.loc[:, ['Weapon5', 'Weapon6', 'Weapon7']].sum(axis=0).sum()\n",
    "drug_off = arrest1_off.loc[:, ['Drug5', 'Drug6', 'Drug7']].sum(axis=0).sum()\n",
    "liq_off = arrest1_off.loc[:, ['Liquor5', 'Liquor6', 'Liquor7']].sum(axis=0).sum()\n",
    "weapons_off += arrest2_off.loc[:, ['WEAPON8', 'WEAPON8.1']].sum(axis=0).sum()\n",
    "drug_off += arrest2_off.loc[:, ['DRUG8', 'DRUG8.1']].sum(axis=0).sum()\n",
    "liq_off += arrest2_off.loc[:, ['LIQUOR8', 'LIQUOR8.1']].sum(axis=0).sum()\n",
    "weapons_off += arrest3_off.loc[:, ['WEAPON10', 'WEAPON11', 'WEAPON12']].sum(axis=0).sum()\n",
    "drug_off += arrest3_off.loc[:, ['DRUG10', 'DRUG11', 'DRUG12']].sum(axis=0).sum()\n",
    "liq_off += arrest3_off.loc[:, ['LIQUOR10', 'LIQUOR11', 'LIQUOR12']].sum(axis=0).sum()\n",
    "weapons_off += arrest4_off.loc[:, ['WEAPON13', 'WEAPON14', 'WEAPON15']].sum(axis=0).sum()\n",
    "drug_off += arrest4_off.loc[:, ['DRUG13', 'DRUG14', 'DRUG15']].sum(axis=0).sum()\n",
    "liq_off += arrest4_off.loc[:, ['LIQUOR13', 'LIQUOR14', 'LIQUOR15']].sum(axis=0).sum()\n",
    "\n",
    "weapons_on = arrest1_on.loc[:, ['Weapon5', 'Weapon6', 'Weapon7']].sum(axis=0).sum()\n",
    "drug_on = arrest1_on.loc[:, ['Drug5', 'Drug6', 'Drug7']].sum(axis=0).sum()\n",
    "liq_on = arrest1_on.loc[:, ['Liquor5', 'Liquor6', 'Liquor7']].sum(axis=0).sum()\n",
    "weapons_on += arrest2_on.loc[:, ['WEAPON8', 'WEAPON8.1']].sum(axis=0).sum()\n",
    "drug_on += arrest2_on.loc[:, ['DRUG8', 'DRUG8.1']].sum(axis=0).sum()\n",
    "liq_on += arrest2_on.loc[:, ['LIQUOR8', 'LIQUOR8.1']].sum(axis=0).sum()\n",
    "weapons_on += arrest3_on.loc[:, ['WEAPON10', 'WEAPON11', 'WEAPON12']].sum(axis=0).sum()\n",
    "drug_on += arrest3_on.loc[:, ['DRUG10', 'DRUG11', 'DRUG12']].sum(axis=0).sum()\n",
    "liq_on += arrest3_on.loc[:, ['LIQUOR10', 'LIQUOR11', 'LIQUOR12']].sum(axis=0).sum()\n",
    "weapons_on += arrest4_on.loc[:, ['WEAPON13', 'WEAPON14', 'WEAPON15']].sum(axis=0).sum()\n",
    "drug_on += arrest4_on.loc[:, ['DRUG13', 'DRUG14', 'DRUG15']].sum(axis=0).sum()\n",
    "liq_on += arrest4_on.loc[:, ['LIQUOR13', 'LIQUOR14', 'LIQUOR15']].sum(axis=0).sum()"
   ]
  },
  {
   "cell_type": "code",
   "execution_count": null,
   "metadata": {
    "collapsed": true
   },
   "outputs": [],
   "source": [
    "violations_off = []\n",
    "violations_off.append(list(arrest1_off.loc[:, ['Weapon5', 'Drug5', 'Liquir5']].sum(axis=0)))\n",
    "violations_off.append(list(arrest1_off.loc[:, ['Weapon6', 'Drug6', 'Liquir6']].sum(axis=0)))\n",
    "violations_off.append(list(arrest1_off.loc[:, ['Weapon7', 'Drug7', 'Liquir7']].sum(axis=0)))\n",
    "violations_off.append(list(arrest2_off.loc[:, ['WEAPON8', 'DRUG8', 'LIQUOR8']].sum(axis=0)))\n",
    "violations_off.append(list(arrest2_off.loc[:, ['WEAPON8.1', 'DRUG8.1', 'LIQUOR8.1']].sum(axis=0)))\n",
    "violations_off.append(list(arrest3_off.loc[:, ['WEAPON10', 'DRUG10', 'LIQUOR10']].sum(axis=0)))\n",
    "violations_off.append(list(arrest3_off.loc[:, ['WEAPON11', 'DRUG11', 'LIQUOR11']].sum(axis=0)))\n",
    "violations_off.append(list(arrest3_off.loc[:, ['WEAPON12', 'DRUG12', 'LIQUOR12']].sum(axis=0)))\n",
    "violations_off.append(list(arrest4_off.loc[:, ['WEAPON13', 'DRUG13', 'LIQUOR13']].sum(axis=0)))\n",
    "violations_off.append(list(arrest4_off.loc[:, ['WEAPON14', 'DRUG14', 'LIQUOR14']].sum(axis=0)))\n",
    "violations_off.append(list(arrest4_off.loc[:, ['WEAPON15', 'DRUG15', 'LIQUOR15']].sum(axis=0)))\n",
    "\n",
    "w_off, d_off, l_off = zip(*violations_off)\n",
    "\n",
    "violations_on = []\n",
    "violations_on.append(list(arrest1_on.loc[:, ['Weapon5', 'Drug5', 'Liquir5']].sum(axis=0)))\n",
    "violations_on.append(list(arrest1_on.loc[:, ['Weapon6', 'Drug6', 'Liquir6']].sum(axis=0)))\n",
    "violations_on.append(list(arrest1_on.loc[:, ['Weapon7', 'Drug7', 'Liquir7']].sum(axis=0)))\n",
    "violations_on.append(list(arrest2_on.loc[:, ['WEAPON8', 'DRUG8', 'LIQUOR8']].sum(axis=0)))\n",
    "violations_on.append(list(arrest2_on.loc[:, ['WEAPON8.1', 'DRUG8.1', 'LIQUOR8.1']].sum(axis=0)))\n",
    "violations_on.append(list(arrest3_on.loc[:, ['WEAPON10', 'DRUG10', 'LIQUOR10']].sum(axis=0)))\n",
    "violations_on.append(list(arrest3_on.loc[:, ['WEAPON11', 'DRUG11', 'LIQUOR11']].sum(axis=0)))\n",
    "violations_on.append(list(arrest3_on.loc[:, ['WEAPON12', 'DRUG12', 'LIQUOR12']].sum(axis=0)))\n",
    "violations_on.append(list(arrest4_on.loc[:, ['WEAPON13', 'DRUG13', 'LIQUOR13']].sum(axis=0)))\n",
    "violations_on.append(list(arrest4_on.loc[:, ['WEAPON14', 'DRUG14', 'LIQUOR14']].sum(axis=0)))\n",
    "violations_on.append(list(arrest4_on.loc[:, ['WEAPON15', 'DRUG15', 'LIQUOR15']].sum(axis=0)))\n",
    "\n",
    "w_on, d_on, l_on = zip(*violations_on)"
   ]
  },
  {
   "cell_type": "code",
   "execution_count": null,
   "metadata": {
    "collapsed": true
   },
   "outputs": [],
   "source": [
    "sns.set_palette(\"husl\", 7)\n",
    "fig, ax = plt.subplots()\n",
    "index = np.arange(11)\n",
    "years = [str(year) for year in np.arange(2005, 2016)]\n",
    "for violation, name in zip(zip(*violations_on), [\"Weapon\", \"Drug\", \"Liquor\"]):\n",
    "    ax.plot(index, violation, lw=2, marker=\"o\", label=\"On-campus {}\".format(name))\n",
    "for violation, name in zip(zip(*violations_off), [\"Weapon\", \"Drug\", \"Liquor\"]):\n",
    "    ax.plot(index, violation, lw=2, marker=\"o\", label=\"Off-campus {}\".format(name))\n",
    "plt.legend()\n",
    "plt.title(\"Total numbers of violations over years\")\n",
    "plt.xticks(index, years)\n",
    "plt.ticklabel_format(style='sci', axis='y', scilimits=(0,0))\n",
    "plt.savefig(\"violations_years.pdf\")\n",
    "plt.show()"
   ]
  }
 ],
 "metadata": {
  "kernelspec": {
   "display_name": "Python 3",
   "language": "python",
   "name": "python3"
  },
  "language_info": {
   "codemirror_mode": {
    "name": "ipython",
    "version": 3
   },
   "file_extension": ".py",
   "mimetype": "text/x-python",
   "name": "python",
   "nbconvert_exporter": "python",
   "pygments_lexer": "ipython3",
   "version": "3.6.1"
  }
 },
 "nbformat": 4,
 "nbformat_minor": 2
}
